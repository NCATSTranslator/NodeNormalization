{
 "cells": [
  {
   "cell_type": "markdown",
   "metadata": {
    "slideshow": {
     "slide_type": "slide"
    }
   },
   "source": [
    "# Introduction to the Node Normalization Service (NodeNorm)"
   ]
  },
  {
   "cell_type": "markdown",
   "metadata": {
    "slideshow": {
     "slide_type": "slide"
    }
   },
   "source": [
    "## Introduction\n",
    "\n",
    "The [Node Normalization Service](https://nodenormalization-sri.renci.org/docs) (NodeNorm) takes an input [CURIE](https://en.wikipedia.org/wiki/CURIE), and returns:\n",
    "\n",
    "* The preferred CURIE for this entity\n",
    "* All other known equivalent identifiers for the entity\n",
    "* Semantic types for the entity as defined by the [Biolink Model](https://biolink.github.io/biolink-model/)\n",
    "\n",
    "The data currently served by the Node Normalization Service is created by [Babel](https://github.com/TranslatorSRI/Babel), a pipeline for combining identifiers from hundreds of data sources including ontologies and publicly accessible databases into a series of _cliques_ -- sets of identifiers ordered as per the preferred prefix list for that semantic type."
   ]
  },
  {
   "cell_type": "markdown",
   "metadata": {},
   "source": [
    "## Instances of NodeNorm\n",
    "\n",
    "For the examples in this document, we will use the _development_ version of the Node Normalization Service, hosted at https://nodenormalization-sri.renci.org/ by the Renaissance Computing Institute (RENCI) at the University of North Carolina. This version is updated more frequently than the production instance listed below.\n",
    "\n",
    "The production instance of NodeNorm is hosted by the NCATS Translator project at https://nodenorm.transltr.io/docs, and may be older than the development version hosted below. As with other NCATS Translator tools, a [CI instance](https://nodenorm.ci.transltr.io/docs) and a [Test instance](https://nodenorm.test.transltr.io/docs) have also been deployed, but are not likely to be useful for non-Translator users."
   ]
  },
  {
   "cell_type": "markdown",
   "metadata": {
    "slideshow": {
     "slide_type": "slide"
    }
   },
   "source": [
    "## Metadata\n",
    "\n",
    "There are two metadata services that can be used to find out what sorts of results have been incorporated into the Node Normalization service.  These return the semantic types that are included, and the prefixes included for each type."
   ]
  },
  {
   "cell_type": "markdown",
   "metadata": {
    "slideshow": {
     "slide_type": "slide"
    }
   },
   "source": [
    "#### Which types have been normalized?"
   ]
  },
  {
   "cell_type": "code",
   "execution_count": 1,
   "metadata": {
    "slideshow": {
     "slide_type": "subslide"
    }
   },
   "outputs": [
    {
     "name": "stdout",
     "output_type": "stream",
     "text": [
      "{\n",
      "  \"semantic_types\": {\n",
      "    \"types\": [\n",
      "      \"biolink:Protein\",\n",
      "      \"biolink:Pathway\",\n",
      "      \"biolink:Behavior\",\n",
      "      \"biolink:BiologicalProcess\",\n",
      "      \"biolink:GeneGroupingMixin\",\n",
      "      \"biolink:AdministrativeEntity\",\n",
      "      \"biolink:Attribute\",\n",
      "      \"biolink:MolecularEntity\",\n",
      "      \"biolink:Entity\",\n",
      "      \"biolink:GeneFamily\",\n",
      "      \"biolink:BiologicalEntity\",\n",
      "      \"biolink:DiseaseOrPhenotypicFeature\",\n",
      "      \"biolink:MolecularActivity\",\n",
      "      \"biolink:OrganismTaxon\",\n",
      "      \"biolink:MolecularMixture\",\n",
      "      \"biolink:GenomicEntity\",\n",
      "      \"biolink:GeographicLocation\",\n",
      "      \"biolink:ActivityAndBehavior\",\n",
      "      \"biolink:MacromolecularComplex\",\n",
      "      \"biolink:GeneProductMixin\",\n",
      "      \"biolink:PhysicalEssenceOrOccurrent\",\n",
      "      \"biolink:StudyPopulation\",\n",
      "      \"biolink:MacromolecularMachineMixin\",\n",
      "      \"biolink:InformationContentEntity\",\n",
      "      \"biolink:SubjectOfInvestigation\",\n",
      "      \"biolink:Device\",\n",
      "      \"biolink:OrganismalEntity\",\n",
      "      \"biolink:Polypeptide\",\n",
      "      \"biolink:NamedThing\",\n",
      "      \"biolink:ChemicalMixture\",\n",
      "      \"biolink:ClinicalAttribute\",\n",
      "      \"biolink:Event\",\n",
      "      \"biolink:OntologyClass\",\n",
      "      \"biolink:ComplexMolecularMixture\",\n",
      "      \"biolink:NucleicAcidEntity\",\n",
      "      \"biolink:Occurrent\",\n",
      "      \"biolink:ChemicalEntity\",\n",
      "      \"biolink:GrossAnatomicalStructure\",\n",
      "      \"biolink:Activity\",\n",
      "      \"biolink:PopulationOfIndividualOrganisms\",\n",
      "      \"biolink:OrganismAttribute\",\n",
      "      \"biolink:Phenomenon\",\n",
      "      \"biolink:AnatomicalEntity\",\n",
      "      \"biolink:GeneOrGeneProduct\",\n",
      "      \"biolink:SmallMolecule\",\n",
      "      \"biolink:ChemicalEntityOrProteinOrPolypeptide\",\n",
      "      \"biolink:ChemicalEntityOrGeneOrGeneProduct\",\n",
      "      \"biolink:Human\",\n",
      "      \"biolink:Food\",\n",
      "      \"biolink:CellularComponent\",\n",
      "      \"biolink:BiologicalProcessOrActivity\",\n",
      "      \"biolink:Drug\",\n",
      "      \"biolink:PlanetaryEntity\",\n",
      "      \"biolink:PhysicalEssence\",\n",
      "      \"biolink:Publication\",\n",
      "      \"biolink:Disease\",\n",
      "      \"biolink:Cohort\",\n",
      "      \"biolink:Agent\",\n",
      "      \"biolink:PhysiologicalProcess\",\n",
      "      \"biolink:ChemicalOrDrugOrTreatment\",\n",
      "      \"biolink:Procedure\",\n",
      "      \"biolink:Gene\",\n",
      "      \"biolink:PhysicalEntity\",\n",
      "      \"biolink:ThingWithTaxon\",\n",
      "      \"biolink:PhenotypicFeature\",\n",
      "      \"biolink:Cell\"\n",
      "    ]\n",
      "  }\n",
      "}\n"
     ]
    }
   ],
   "source": [
    "import json \n",
    "import requests\n",
    "\n",
    "result = requests.get('https://nodenormalization-sri.renci.org/get_semantic_types')\n",
    "print( json.dumps( result.json(), indent = 2))"
   ]
  },
  {
   "cell_type": "markdown",
   "metadata": {
    "slideshow": {
     "slide_type": "slide"
    }
   },
   "source": [
    "#### Which prefixes are supported?\n",
    "\n",
    "Even if a semantic type has some identifier equivalence, not every vocabulary has been included.  To see which vocabularies are likely to give useful results for a specific Biolink class, call:"
   ]
  },
  {
   "cell_type": "code",
   "execution_count": 3,
   "metadata": {
    "slideshow": {
     "slide_type": "subslide"
    }
   },
   "outputs": [
    {
     "name": "stdout",
     "output_type": "stream",
     "text": [
      "{\n",
      "  \"biolink:ChemicalEntity\": {\n",
      "    \"curie_prefix\": {\n",
      "      \"PUBCHEM.COMPOUND\": \"124460882\",\n",
      "      \"INCHIKEY\": \"110336273\",\n",
      "      \"CHEMBL.COMPOUND\": \"2399641\",\n",
      "      \"CHEBI\": \"196937\",\n",
      "      \"CAS\": \"3556698\",\n",
      "      \"HMDB\": \"217920\",\n",
      "      \"UNII\": \"126327\",\n",
      "      \"MESH\": \"258102\",\n",
      "      \"KEGG.COMPOUND\": \"16020\",\n",
      "      \"UMLS\": \"549120\",\n",
      "      \"DRUGBANK\": \"15179\",\n",
      "      \"DrugCentral\": \"4995\",\n",
      "      \"GTOPDB\": \"12347\",\n",
      "      \"RXCUI\": \"123395\"\n",
      "    }\n",
      "  }\n",
      "}\n"
     ]
    }
   ],
   "source": [
    "result = requests.get('https://nodenormalization-sri.renci.org/get_curie_prefixes/',\n",
    "                     params={'semantic_type':\"biolink:ChemicalEntity\"})\n",
    "print( json.dumps( result.json(), indent = 2))"
   ]
  },
  {
   "cell_type": "markdown",
   "metadata": {
    "slideshow": {
     "slide_type": "skip"
    }
   },
   "source": [
    "More than one type can be queried:"
   ]
  },
  {
   "cell_type": "code",
   "execution_count": 4,
   "metadata": {
    "scrolled": true,
    "slideshow": {
     "slide_type": "skip"
    }
   },
   "outputs": [
    {
     "name": "stdout",
     "output_type": "stream",
     "text": [
      "{\n",
      "  \"biolink:ChemicalEntity\": {\n",
      "    \"curie_prefix\": {\n",
      "      \"PUBCHEM.COMPOUND\": \"124460882\",\n",
      "      \"INCHIKEY\": \"110336273\",\n",
      "      \"CHEMBL.COMPOUND\": \"2399641\",\n",
      "      \"CHEBI\": \"196937\",\n",
      "      \"CAS\": \"3556698\",\n",
      "      \"HMDB\": \"217920\",\n",
      "      \"UNII\": \"126327\",\n",
      "      \"MESH\": \"258102\",\n",
      "      \"KEGG.COMPOUND\": \"16020\",\n",
      "      \"UMLS\": \"549120\",\n",
      "      \"DRUGBANK\": \"15179\",\n",
      "      \"DrugCentral\": \"4995\",\n",
      "      \"GTOPDB\": \"12347\",\n",
      "      \"RXCUI\": \"123395\"\n",
      "    }\n",
      "  },\n",
      "  \"biolink:Disease\": {\n",
      "    \"curie_prefix\": {\n",
      "      \"UMLS\": \"336767\",\n",
      "      \"SNOMEDCT\": \"94514\",\n",
      "      \"MEDDRA\": \"46033\",\n",
      "      \"MONDO\": \"24012\",\n",
      "      \"DOID\": \"11498\",\n",
      "      \"NCIT\": \"25540\",\n",
      "      \"HP\": \"2182\",\n",
      "      \"EFO\": \"3711\",\n",
      "      \"orphanet\": \"10780\",\n",
      "      \"MESH\": \"11238\",\n",
      "      \"OMIM\": \"10314\",\n",
      "      \"ICD10\": \"2429\",\n",
      "      \"ICD9\": \"2218\",\n",
      "      \"OMIM.PS\": \"556\",\n",
      "      \"KEGG.DISEASE\": \"40\",\n",
      "      \"MP\": \"1\"\n",
      "    }\n",
      "  }\n",
      "}\n"
     ]
    }
   ],
   "source": [
    "result = requests.get('https://nodenormalization-sri.renci.org/get_curie_prefixes/',\n",
    "                     params={'semantic_type':[\"biolink:ChemicalEntity\",\"biolink:Disease\"]})\n",
    "print( json.dumps( result.json(), indent = 2))"
   ]
  },
  {
   "cell_type": "markdown",
   "metadata": {},
   "source": [
    "Or you can just ask for all the prefix counts for every type:"
   ]
  },
  {
   "cell_type": "code",
   "execution_count": 8,
   "metadata": {},
   "outputs": [
    {
     "name": "stdout",
     "output_type": "stream",
     "text": [
      "{\n",
      "  \"biolink:Pathway\": {\n",
      "    \"curie_prefix\": {\n",
      "      \"REACT\": \"21784\",\n",
      "      \"SMPDB\": \"30248\",\n",
      "      \"GO\": \"642\",\n",
      "      \"PANTHER.PATHWAY\": \"175\"\n",
      "    }\n",
      "  },\n",
      "  \"biolink:OrganismTaxon\": {\n",
      "    \"curie_prefix\": {\n",
      "      \"UMLS\": \"749649\",\n",
      "      \"NCBITaxon\": \"2546095\",\n",
      "      \"MESH\": \"70628\"\n",
      "    }\n",
      "  },\n",
      "  \"biolink:GeneFamily\": {\n",
      "    \"curie_prefix\": {\n",
      "      \"PANTHER.FAMILY\": \"26138\",\n",
      "      \"HGNC.FAMILY\": \"1807\"\n",
      "    }\n",
      "  }\n",
      "}\n"
     ]
    }
   ],
   "source": [
    "result = requests.get('https://nodenormalization-sri.renci.org/get_curie_prefixes')\n",
    "responses = result.json()\n",
    "\n",
    "# Display only the first three responses. \n",
    "print( json.dumps( dict(list(responses.items())[:3]), indent = 2))"
   ]
  },
  {
   "cell_type": "markdown",
   "metadata": {
    "slideshow": {
     "slide_type": "slide"
    }
   },
   "source": [
    "## Normalization"
   ]
  },
  {
   "cell_type": "markdown",
   "metadata": {
    "slideshow": {
     "slide_type": "subslide"
    }
   },
   "source": [
    "Given one or more Compact URIs (CURIES), `get_normalized_node` will return a list of equivalent identifiers for the entity, along with the Translator-preferred identifier, and the semantic type(s) for the entity.  This service is merely returning pre-computed values, and does no equivalence inference on its own.  If a CURIE is unknown to it, then null is returned."
   ]
  },
  {
   "cell_type": "markdown",
   "metadata": {
    "slideshow": {
     "slide_type": "slide"
    }
   },
   "source": [
    "In this example, `get_normalized_node` is called with a MeSH identifier.   MeSH contains many different semantic types, but the service correctly identifies the term."
   ]
  },
  {
   "cell_type": "code",
   "execution_count": 4,
   "metadata": {
    "scrolled": true,
    "slideshow": {
     "slide_type": "subslide"
    }
   },
   "outputs": [
    {
     "name": "stdout",
     "output_type": "stream",
     "text": [
      "{\n",
      "  \"MESH:D014867\": {\n",
      "    \"id\": {\n",
      "      \"identifier\": \"PUBCHEM.COMPOUND:22247451\",\n",
      "      \"label\": \"Hydron;hydroxide\"\n",
      "    },\n",
      "    \"equivalent_identifiers\": [\n",
      "      {\n",
      "        \"identifier\": \"PUBCHEM.COMPOUND:22247451\",\n",
      "        \"label\": \"Hydron;hydroxide\"\n",
      "      },\n",
      "      {\n",
      "        \"identifier\": \"PUBCHEM.COMPOUND:962\",\n",
      "        \"label\": \"Water\"\n",
      "      },\n",
      "      {\n",
      "        \"identifier\": \"CHEMBL.COMPOUND:CHEMBL1098659\",\n",
      "        \"label\": \"WATER\"\n",
      "      },\n",
      "      {\n",
      "        \"identifier\": \"UNII:059QF0KO0R\"\n",
      "      },\n",
      "      {\n",
      "        \"identifier\": \"CHEBI:15377\",\n",
      "        \"label\": \"water\"\n",
      "      },\n",
      "      {\n",
      "        \"identifier\": \"DRUGBANK:DB09145\"\n",
      "      },\n",
      "      {\n",
      "        \"identifier\": \"MESH:D014867\",\n",
      "        \"label\": \"Water\"\n",
      "      },\n",
      "      {\n",
      "        \"identifier\": \"HMDB:HMDB0002111\"\n",
      "      },\n",
      "      {\n",
      "        \"identifier\": \"KEGG.COMPOUND:C00001\",\n",
      "        \"label\": \"H2O\"\n",
      "      },\n",
      "      {\n",
      "        \"identifier\": \"INCHIKEY:IKBQPNVYXHKVJS-LVZFUZTISA-N\"\n",
      "      }\n",
      "    ],\n",
      "    \"type\": [\n",
      "      \"biolink:ChemicalSubstance\",\n",
      "      \"biolink:Entity\",\n",
      "      \"biolink:NamedThing\",\n",
      "      \"biolink:BiologicalEntity\",\n",
      "      \"biolink:MolecularEntity\"\n",
      "    ]\n",
      "  }\n",
      "}\n"
     ]
    }
   ],
   "source": [
    "result = requests.get('https://nodenormalization-sri.renci.org/get_normalized_nodes',\n",
    "                     params={'curie':\"MESH:D014867\"})\n",
    "print( json.dumps( result.json(), indent = 2))"
   ]
  },
  {
   "cell_type": "markdown",
   "metadata": {
    "slideshow": {
     "slide_type": "slide"
    }
   },
   "source": [
    "To improve performance, multiple CURIEs may be batched into a single function call as a POST:"
   ]
  },
  {
   "cell_type": "code",
   "execution_count": 5,
   "metadata": {
    "scrolled": true,
    "slideshow": {
     "slide_type": "subslide"
    }
   },
   "outputs": [
    {
     "name": "stdout",
     "output_type": "stream",
     "text": [
      "{\n",
      "  \"HP:0007354\": {\n",
      "    \"id\": {\n",
      "      \"identifier\": \"MONDO:0004976\",\n",
      "      \"label\": \"amyotrophic lateral sclerosis\"\n",
      "    },\n",
      "    \"equivalent_identifiers\": [\n",
      "      {\n",
      "        \"identifier\": \"MONDO:0004976\",\n",
      "        \"label\": \"amyotrophic lateral sclerosis\"\n",
      "      },\n",
      "      {\n",
      "        \"identifier\": \"DOID:332\"\n",
      "      },\n",
      "      {\n",
      "        \"identifier\": \"OMIM:MTHU030638\"\n",
      "      },\n",
      "      {\n",
      "        \"identifier\": \"OMIM:MTHU038375\"\n",
      "      },\n",
      "      {\n",
      "        \"identifier\": \"ORPHANET:803\"\n",
      "      },\n",
      "      {\n",
      "        \"identifier\": \"EFO:0000253\",\n",
      "        \"label\": \"amyotrophic lateral sclerosis\"\n",
      "      },\n",
      "      {\n",
      "        \"identifier\": \"UMLS:C0002736\",\n",
      "        \"label\": \"Amyotrophic Lateral Sclerosis\"\n",
      "      },\n",
      "      {\n",
      "        \"identifier\": \"UMLS:C0393554\",\n",
      "        \"label\": \"Amyotrophic Lateral Sclerosis With Dementia\"\n",
      "      },\n",
      "      {\n",
      "        \"identifier\": \"MESH:D000690\",\n",
      "        \"label\": \"Amyotrophic Lateral Sclerosis\"\n",
      "      },\n",
      "      {\n",
      "        \"identifier\": \"MEDDRA:10002026\"\n",
      "      },\n",
      "      {\n",
      "        \"identifier\": \"NCIT:C34373\",\n",
      "        \"label\": \"Amyotrophic Lateral Sclerosis\"\n",
      "      },\n",
      "      {\n",
      "        \"identifier\": \"SNOMEDCT:230258005\"\n",
      "      },\n",
      "      {\n",
      "        \"identifier\": \"SNOMEDCT:86044005\"\n",
      "      },\n",
      "      {\n",
      "        \"identifier\": \"HP:0007354\",\n",
      "        \"label\": \"Amyotrophic lateral sclerosis\"\n",
      "      }\n",
      "    ],\n",
      "    \"type\": [\n",
      "      \"biolink:Disease\",\n",
      "      \"biolink:Disease\",\n",
      "      \"biolink:DiseaseOrPhenotypicFeature\",\n",
      "      \"biolink:BiologicalEntity\",\n",
      "      \"biolink:NamedThing\",\n",
      "      \"biolink:Entity\"\n",
      "    ]\n",
      "  },\n",
      "  \"HGNC:613\": {\n",
      "    \"id\": {\n",
      "      \"identifier\": \"NCBIGene:348\",\n",
      "      \"label\": \"APOE\"\n",
      "    },\n",
      "    \"equivalent_identifiers\": [\n",
      "      {\n",
      "        \"identifier\": \"NCBIGene:348\"\n",
      "      },\n",
      "      {\n",
      "        \"identifier\": \"ENSEMBL:ENSG00000130203\"\n",
      "      },\n",
      "      {\n",
      "        \"identifier\": \"HGNC:613\",\n",
      "        \"label\": \"APOE\"\n",
      "      },\n",
      "      {\n",
      "        \"identifier\": \"UniProtKB:P02649\",\n",
      "        \"label\": \"APOE_HUMAN Apolipoprotein E (sprot)\"\n",
      "      }\n",
      "    ],\n",
      "    \"type\": [\n",
      "      \"biolink:Gene\",\n",
      "      \"biolink:Gene\",\n",
      "      \"biolink:GenomicEntity\",\n",
      "      \"biolink:MolecularEntity\",\n",
      "      \"biolink:BiologicalEntity\",\n",
      "      \"biolink:NamedThing\",\n",
      "      \"biolink:Entity\"\n",
      "    ]\n",
      "  },\n",
      "  \"CURIE:NOTHING\": null\n",
      "}\n"
     ]
    }
   ],
   "source": [
    "result = requests.post('https://nodenormalization-sri.renci.org/get_normalized_nodes',\n",
    "                     json={\"curies\":[\"HP:0007354\", \"HGNC:613\", \"CURIE:NOTHING\"]})\n",
    "print( json.dumps( result.json(), indent = 2))"
   ]
  },
  {
   "cell_type": "markdown",
   "metadata": {},
   "source": [
    "## TRAPI"
   ]
  },
  {
   "cell_type": "markdown",
   "metadata": {},
   "source": [
    "Node normalization will now operate on TRAPI messages (version 1.0)\n",
    "\n",
    "Here we have a message in terms of HGNC and DOID, and the normalizer returns a message using NCBIGene and MONDO."
   ]
  },
  {
   "cell_type": "code",
   "execution_count": 11,
   "metadata": {},
   "outputs": [],
   "source": [
    "trapi_message = {\n",
    "    \"message\": {\n",
    "        \"query_graph\": {\n",
    "            \"nodes\": {\n",
    "                \"n1\": {\n",
    "                    \"id\": \"HGNC:11603\",\n",
    "                    \"category\": [\n",
    "                        \"biolink:Gene\"\n",
    "                    ]\n",
    "                },\n",
    "                \"n2\": {\n",
    "                    \"category\": [\n",
    "                        \"biolink:Disease\"\n",
    "                    ]\n",
    "                }\n",
    "            },\n",
    "            \"edges\": {\n",
    "                \"e1\": {\n",
    "                    \"subject\": \"n1\",\n",
    "                    \"object\": \"n2\"\n",
    "                }\n",
    "            }\n",
    "        },\n",
    "        \"knowledge_graph\": {\n",
    "            \"nodes\": {\n",
    "                \"HGNC:11603\": {\n",
    "                    \"name\": \"TBX4\",\n",
    "                    \"category\": [\n",
    "                        \"biolink:Gene\"\n",
    "                    ]\n",
    "                },\n",
    "                \"DOID:3083\": {\n",
    "                    \"name\": \"chronic obstructive pulmonary disease\",\n",
    "                    \"category\": [\n",
    "                        \"biolink:Disease\"\n",
    "                    ]\n",
    "                }\n",
    "            },\n",
    "            \"edges\": {\n",
    "                \"2d38345a-e9bf-4943-accb-dccba351dd04\": {\n",
    "                    \"subject\": \"NCBIGene:9496\",\n",
    "                    \"object\": \"DOID:3083\",\n",
    "                    \"predicate\": \"biolink:related_to\",\n",
    "                    \"relation\": \"RO:0003304\"\n",
    "                }\n",
    "            }\n",
    "        },\n",
    "        \"results\": [\n",
    "            {\n",
    "                \"node_bindings\": {\n",
    "                    \"n1\": [\n",
    "                        {\n",
    "                            \"id\": \"HGNC:11603\"\n",
    "                        }\n",
    "                    ],\n",
    "                    \"n2\": [\n",
    "                        {\n",
    "                            \"id\": \"DOID:3083\"\n",
    "                        }\n",
    "                    ]\n",
    "                },\n",
    "                \"edge_bindings\": {\n",
    "                    \"e1\": [\n",
    "                        {\n",
    "                            \"id\": \"2d38345a-e9bf-4943-accb-dccba351dd04\"\n",
    "                        }\n",
    "                    ]\n",
    "                }\n",
    "            }\n",
    "        ]\n",
    "    }\n",
    "}"
   ]
  },
  {
   "cell_type": "code",
   "execution_count": 12,
   "metadata": {},
   "outputs": [
    {
     "name": "stdout",
     "output_type": "stream",
     "text": [
      "200\n"
     ]
    }
   ],
   "source": [
    "result = requests.post('https://nodenormalization-sri.renci.org/response',json=trapi_message)\n",
    "print(result.status_code)"
   ]
  },
  {
   "cell_type": "code",
   "execution_count": 13,
   "metadata": {},
   "outputs": [
    {
     "name": "stdout",
     "output_type": "stream",
     "text": [
      "{\n",
      "  \"message\": {\n",
      "    \"query_graph\": {\n",
      "      \"nodes\": {\n",
      "        \"n1\": {\n",
      "          \"id\": \"NCBIGene:9496\",\n",
      "          \"category\": [\n",
      "            \"biolink:Gene\"\n",
      "          ],\n",
      "          \"is_set\": false\n",
      "        },\n",
      "        \"n2\": {\n",
      "          \"id\": null,\n",
      "          \"category\": [\n",
      "            \"biolink:Disease\"\n",
      "          ],\n",
      "          \"is_set\": false\n",
      "        }\n",
      "      },\n",
      "      \"edges\": {\n",
      "        \"e1\": {\n",
      "          \"subject\": \"n1\",\n",
      "          \"object\": \"n2\",\n",
      "          \"predicate\": null,\n",
      "          \"relation\": null\n",
      "        }\n",
      "      }\n",
      "    },\n",
      "    \"knowledge_graph\": {\n",
      "      \"nodes\": {\n",
      "        \"NCBIGene:9496\": {\n",
      "          \"category\": [\n",
      "            \"biolink:Gene\",\n",
      "            \"biolink:Gene\",\n",
      "            \"biolink:GenomicEntity\",\n",
      "            \"biolink:MolecularEntity\",\n",
      "            \"biolink:BiologicalEntity\",\n",
      "            \"biolink:NamedThing\",\n",
      "            \"biolink:Entity\"\n",
      "          ],\n",
      "          \"name\": \"TBX4\",\n",
      "          \"attributes\": [\n",
      "            {\n",
      "              \"type\": \"biolink:same_as\",\n",
      "              \"value\": [\n",
      "                \"NCBIGene:9496\",\n",
      "                \"ENSEMBL:ENSG00000121075\",\n",
      "                \"HGNC:11603\",\n",
      "                \"UniProtKB:P57082\"\n",
      "              ],\n",
      "              \"name\": \"same_as\",\n",
      "              \"url\": null,\n",
      "              \"source\": null\n",
      "            }\n",
      "          ]\n",
      "        },\n",
      "        \"MONDO:0005002\": {\n",
      "          \"category\": [\n",
      "            \"biolink:Disease\",\n",
      "            \"biolink:Disease\",\n",
      "            \"biolink:DiseaseOrPhenotypicFeature\",\n",
      "            \"biolink:BiologicalEntity\",\n",
      "            \"biolink:NamedThing\",\n",
      "            \"biolink:Entity\"\n",
      "          ],\n",
      "          \"name\": \"chronic obstructive pulmonary disease\",\n",
      "          \"attributes\": [\n",
      "            {\n",
      "              \"type\": \"biolink:same_as\",\n",
      "              \"value\": [\n",
      "                \"MONDO:0005002\",\n",
      "                \"DOID:3083\",\n",
      "                \"EFO:0000341\",\n",
      "                \"UMLS:C0024117\",\n",
      "                \"MESH:D029424\",\n",
      "                \"NCIT:C3199\",\n",
      "                \"SNOMEDCT:13645005\",\n",
      "                \"HP:0006510\"\n",
      "              ],\n",
      "              \"name\": \"same_as\",\n",
      "              \"url\": null,\n",
      "              \"source\": null\n",
      "            }\n",
      "          ]\n",
      "        }\n",
      "      },\n",
      "      \"edges\": {\n",
      "        \"2d38345a-e9bf-4943-accb-dccba351dd04\": {\n",
      "          \"subject\": \"NCBIGene:9496\",\n",
      "          \"object\": \"MONDO:0005002\",\n",
      "          \"predicate\": \"biolink:related_to\",\n",
      "          \"relation\": \"RO:0003304\",\n",
      "          \"attributes\": null\n",
      "        }\n",
      "      }\n",
      "    },\n",
      "    \"results\": [\n",
      "      {\n",
      "        \"node_bindings\": {\n",
      "          \"n1\": [\n",
      "            {\n",
      "              \"id\": \"NCBIGene:9496\"\n",
      "            }\n",
      "          ],\n",
      "          \"n2\": [\n",
      "            {\n",
      "              \"id\": \"MONDO:0005002\"\n",
      "            }\n",
      "          ]\n",
      "        },\n",
      "        \"edge_bindings\": {\n",
      "          \"e1\": [\n",
      "            {\n",
      "              \"id\": \"2d38345a-e9bf-4943-accb-dccba351dd04\"\n",
      "            }\n",
      "          ]\n",
      "        }\n",
      "      }\n",
      "    ]\n",
      "  },\n",
      "  \"logs\": null,\n",
      "  \"status\": null\n",
      "}\n"
     ]
    }
   ],
   "source": [
    "print(json.dumps(result.json(), indent=2))"
   ]
  },
  {
   "cell_type": "code",
   "execution_count": null,
   "metadata": {},
   "outputs": [],
   "source": []
  }
 ],
 "metadata": {
  "kernelspec": {
   "display_name": "Python 3 (ipykernel)",
   "language": "python",
   "name": "python3"
  },
  "language_info": {
   "codemirror_mode": {
    "name": "ipython",
    "version": 3
   },
   "file_extension": ".py",
   "mimetype": "text/x-python",
   "name": "python",
   "nbconvert_exporter": "python",
   "pygments_lexer": "ipython3",
   "version": "3.12.4"
  }
 },
 "nbformat": 4,
 "nbformat_minor": 4
}
