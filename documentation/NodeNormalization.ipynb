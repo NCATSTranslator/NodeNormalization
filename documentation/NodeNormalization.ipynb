{
 "cells": [
  {
   "cell_type": "markdown",
   "metadata": {
    "slideshow": {
     "slide_type": "slide"
    }
   },
   "source": [
    "# NodeNormalization"
   ]
  },
  {
   "cell_type": "markdown",
   "metadata": {
    "slideshow": {
     "slide_type": "slide"
    }
   },
   "source": [
    "## Introduction\n",
    "\n",
    "The [Node Normalization Service](https://nodenormalization-sri.renci.org/docs) takes an input [CURIE](https://en.wikipedia.org/wiki/CURIE), and returns:\n",
    "\n",
    "* The preferred CURIE for this entity\n",
    "* All other known equivalent identifiers for the entity\n",
    "* Semantic types for the entity as defined by the [Biolink Model](https://biolink.github.io/biolink-model/)\n",
    "\n",
    "The data currently served by the Node Normalization Service is created by [Babel](https://github.com/TranslatorSRI/Babel), a pipeline for combining identifiers from hundreds of data sources including ontologies and publicly accessible databases into a series of _cliques_ -- sets of identifiers ordered as per the preferred prefix list for that semantic type."
   ]
  },
  {
   "cell_type": "markdown",
   "metadata": {
    "slideshow": {
     "slide_type": "slide"
    }
   },
   "source": [
    "## Metadata\n",
    "\n",
    "There are two metadata services that can be used to find out what sorts of results have been incorporated into NodeNormalization.  These return the semantic types that are included, and the prefixes included for each type."
   ]
  },
  {
   "cell_type": "markdown",
   "metadata": {
    "slideshow": {
     "slide_type": "slide"
    }
   },
   "source": [
    "Which types have been normalized?"
   ]
  },
  {
   "cell_type": "code",
   "execution_count": 1,
   "metadata": {
    "slideshow": {
     "slide_type": "subslide"
    }
   },
   "outputs": [
    {
     "name": "stdout",
     "output_type": "stream",
     "text": [
      "{\n",
      "  \"semantic_types\": {\n",
      "    \"types\": [\n",
      "      \"biolink:GenomicEntity\",\n",
      "      \"biolink:BiologicalProcessOrActivity\",\n",
      "      \"biolink:MolecularActivity\",\n",
      "      \"biolink:DiseaseOrPhenotypicFeature\",\n",
      "      \"biolink:GeneFamily\",\n",
      "      \"biolink:Cell\",\n",
      "      \"biolink:OrganismalEntity\",\n",
      "      \"biolink:Pathway\",\n",
      "      \"biolink:MolecularEntity\",\n",
      "      \"biolink:Gene\",\n",
      "      \"biolink:BiologicalEntity\",\n",
      "      \"biolink:BiologicalProcess\",\n",
      "      \"biolink:AnatomicalEntity\",\n",
      "      \"biolink:OrganismTaxon\",\n",
      "      \"biolink:Entity\",\n",
      "      \"biolink:Disease\",\n",
      "      \"biolink:CellularComponent\",\n",
      "      \"biolink:ChemicalSubstance\",\n",
      "      \"biolink:PhenotypicFeature\",\n",
      "      \"biolink:NamedThing\"\n",
      "    ]\n",
      "  }\n",
      "}\n"
     ]
    }
   ],
   "source": [
    "import json \n",
    "import requests\n",
    "\n",
    "result = requests.get('https://nodenormalization-sri.renci.org/get_semantic_types')\n",
    "print( json.dumps( result.json(), indent = 2))"
   ]
  },
  {
   "cell_type": "markdown",
   "metadata": {
    "slideshow": {
     "slide_type": "slide"
    }
   },
   "source": [
    "Even if a semantic type has some identifier equivalence, not every vocabulary has been included.  To see which vocabularies are likely to give useful results, call:"
   ]
  },
  {
   "cell_type": "code",
   "execution_count": 2,
   "metadata": {
    "slideshow": {
     "slide_type": "subslide"
    }
   },
   "outputs": [
    {
     "name": "stdout",
     "output_type": "stream",
     "text": [
      "{\n",
      "  \"biolink:ChemicalSubstance\": {\n",
      "    \"curie_prefix\": {\n",
      "      \"PUBCHEM.COMPOUND\": \"96566919\",\n",
      "      \"INCHIKEY\": \"96349470\",\n",
      "      \"CHEMBL.COMPOUND\": \"1889978\",\n",
      "      \"MESH\": \"274298\",\n",
      "      \"CHEBI\": \"135769\",\n",
      "      \"KEGG.COMPOUND\": \"18744\",\n",
      "      \"HMDB\": \"113979\",\n",
      "      \"UNII\": \"82937\",\n",
      "      \"DRUGBANK\": \"10742\",\n",
      "      \"GTOPDB\": \"8895\"\n",
      "    }\n",
      "  }\n",
      "}\n"
     ]
    }
   ],
   "source": [
    "result = requests.get('https://nodenormalization-sri.renci.org/get_curie_prefixes/',\n",
    "                     params={'semantic_type':\"biolink:ChemicalSubstance\"})\n",
    "print( json.dumps( result.json(), indent = 2))"
   ]
  },
  {
   "cell_type": "markdown",
   "metadata": {
    "slideshow": {
     "slide_type": "skip"
    }
   },
   "source": [
    "More than one type can be queried:"
   ]
  },
  {
   "cell_type": "code",
   "execution_count": 3,
   "metadata": {
    "slideshow": {
     "slide_type": "skip"
    }
   },
   "outputs": [
    {
     "name": "stdout",
     "output_type": "stream",
     "text": [
      "{\n",
      "  \"biolink:ChemicalSubstance\": {\n",
      "    \"curie_prefix\": {\n",
      "      \"PUBCHEM.COMPOUND\": \"96566919\",\n",
      "      \"INCHIKEY\": \"96349470\",\n",
      "      \"CHEMBL.COMPOUND\": \"1889978\",\n",
      "      \"MESH\": \"274298\",\n",
      "      \"CHEBI\": \"135769\",\n",
      "      \"KEGG.COMPOUND\": \"18744\",\n",
      "      \"HMDB\": \"113979\",\n",
      "      \"UNII\": \"82937\",\n",
      "      \"DRUGBANK\": \"10742\",\n",
      "      \"GTOPDB\": \"8895\"\n",
      "    }\n",
      "  },\n",
      "  \"biolink:Disease\": {\n",
      "    \"curie_prefix\": {\n",
      "      \"UMLS\": \"225822\",\n",
      "      \"SNOMEDCT\": \"152614\",\n",
      "      \"MEDDRA\": \"23228\",\n",
      "      \"NCIT\": \"39158\",\n",
      "      \"MONDO\": \"44526\",\n",
      "      \"ORPHANET\": \"18282\",\n",
      "      \"MESH\": \"21066\",\n",
      "      \"HP\": \"3478\",\n",
      "      \"DOID\": \"19624\",\n",
      "      \"OMIM\": \"28954\",\n",
      "      \"EFO\": \"3820\",\n",
      "      \"ICD10\": \"24\",\n",
      "      \"ICD9\": \"12\",\n",
      "      \"MP\": \"4\",\n",
      "      \"medgen\": \"4\"\n",
      "    }\n",
      "  }\n",
      "}\n"
     ]
    }
   ],
   "source": [
    "result = requests.get('https://nodenormalization-sri.renci.org/get_curie_prefixes/',\n",
    "                     params={'semantic_type':[\"biolink:ChemicalSubstance\",\"biolink:Disease\"]})\n",
    "print( json.dumps( result.json(), indent = 2))"
   ]
  },
  {
   "cell_type": "markdown",
   "metadata": {
    "slideshow": {
     "slide_type": "slide"
    }
   },
   "source": [
    "## Normalization"
   ]
  },
  {
   "cell_type": "markdown",
   "metadata": {
    "slideshow": {
     "slide_type": "subslide"
    }
   },
   "source": [
    "Given one or more Compact URIs (CURIES), `get_normalized_node` will return a list of equivalent identifiers for the entity, along with the Translator-preferred identifier, and the semantic type(s) for the entity.  This service is merely returning pre-computed values, and does no equivalence inference on its own.  If a CURIE is unknown to it, then null is returned."
   ]
  },
  {
   "cell_type": "markdown",
   "metadata": {
    "slideshow": {
     "slide_type": "slide"
    }
   },
   "source": [
    "In this example, `get_normalized_node` is called with a MeSH identifier.   MeSH contains many different semantic types, but the service correctly identifies the term."
   ]
  },
  {
   "cell_type": "code",
   "execution_count": 4,
   "metadata": {
    "scrolled": true,
    "slideshow": {
     "slide_type": "subslide"
    }
   },
   "outputs": [
    {
     "name": "stdout",
     "output_type": "stream",
     "text": [
      "{\n",
      "  \"MESH:D014867\": {\n",
      "    \"id\": {\n",
      "      \"identifier\": \"PUBCHEM.COMPOUND:22247451\",\n",
      "      \"label\": \"Hydron;hydroxide\"\n",
      "    },\n",
      "    \"equivalent_identifiers\": [\n",
      "      {\n",
      "        \"identifier\": \"PUBCHEM.COMPOUND:22247451\",\n",
      "        \"label\": \"Hydron;hydroxide\"\n",
      "      },\n",
      "      {\n",
      "        \"identifier\": \"PUBCHEM.COMPOUND:962\",\n",
      "        \"label\": \"Water\"\n",
      "      },\n",
      "      {\n",
      "        \"identifier\": \"CHEMBL.COMPOUND:CHEMBL1098659\",\n",
      "        \"label\": \"WATER\"\n",
      "      },\n",
      "      {\n",
      "        \"identifier\": \"UNII:059QF0KO0R\"\n",
      "      },\n",
      "      {\n",
      "        \"identifier\": \"CHEBI:15377\",\n",
      "        \"label\": \"water\"\n",
      "      },\n",
      "      {\n",
      "        \"identifier\": \"DRUGBANK:DB09145\"\n",
      "      },\n",
      "      {\n",
      "        \"identifier\": \"MESH:D014867\",\n",
      "        \"label\": \"Water\"\n",
      "      },\n",
      "      {\n",
      "        \"identifier\": \"HMDB:HMDB0002111\"\n",
      "      },\n",
      "      {\n",
      "        \"identifier\": \"KEGG.COMPOUND:C00001\",\n",
      "        \"label\": \"H2O\"\n",
      "      },\n",
      "      {\n",
      "        \"identifier\": \"INCHIKEY:IKBQPNVYXHKVJS-LVZFUZTISA-N\"\n",
      "      }\n",
      "    ],\n",
      "    \"type\": [\n",
      "      \"biolink:ChemicalSubstance\",\n",
      "      \"biolink:Entity\",\n",
      "      \"biolink:NamedThing\",\n",
      "      \"biolink:BiologicalEntity\",\n",
      "      \"biolink:MolecularEntity\"\n",
      "    ]\n",
      "  }\n",
      "}\n"
     ]
    }
   ],
   "source": [
    "result = requests.get('https://nodenormalization-sri.renci.org/get_normalized_nodes',\n",
    "                     params={'curie':\"MESH:D014867\"})\n",
    "print( json.dumps( result.json(), indent = 2))"
   ]
  },
  {
   "cell_type": "markdown",
   "metadata": {
    "slideshow": {
     "slide_type": "slide"
    }
   },
   "source": [
    "To improve performance, multiple CURIEs may be batched into a single function call as a POST:"
   ]
  },
  {
   "cell_type": "code",
   "execution_count": 5,
   "metadata": {
    "scrolled": true,
    "slideshow": {
     "slide_type": "subslide"
    }
   },
   "outputs": [
    {
     "name": "stdout",
     "output_type": "stream",
     "text": [
      "{\n",
      "  \"HP:0007354\": {\n",
      "    \"id\": {\n",
      "      \"identifier\": \"MONDO:0004976\",\n",
      "      \"label\": \"amyotrophic lateral sclerosis\"\n",
      "    },\n",
      "    \"equivalent_identifiers\": [\n",
      "      {\n",
      "        \"identifier\": \"MONDO:0004976\",\n",
      "        \"label\": \"amyotrophic lateral sclerosis\"\n",
      "      },\n",
      "      {\n",
      "        \"identifier\": \"DOID:332\"\n",
      "      },\n",
      "      {\n",
      "        \"identifier\": \"OMIM:MTHU030638\"\n",
      "      },\n",
      "      {\n",
      "        \"identifier\": \"OMIM:MTHU038375\"\n",
      "      },\n",
      "      {\n",
      "        \"identifier\": \"ORPHANET:803\"\n",
      "      },\n",
      "      {\n",
      "        \"identifier\": \"EFO:0000253\",\n",
      "        \"label\": \"amyotrophic lateral sclerosis\"\n",
      "      },\n",
      "      {\n",
      "        \"identifier\": \"UMLS:C0002736\",\n",
      "        \"label\": \"Amyotrophic Lateral Sclerosis\"\n",
      "      },\n",
      "      {\n",
      "        \"identifier\": \"UMLS:C0393554\",\n",
      "        \"label\": \"Amyotrophic Lateral Sclerosis With Dementia\"\n",
      "      },\n",
      "      {\n",
      "        \"identifier\": \"MESH:D000690\",\n",
      "        \"label\": \"Amyotrophic Lateral Sclerosis\"\n",
      "      },\n",
      "      {\n",
      "        \"identifier\": \"MEDDRA:10002026\"\n",
      "      },\n",
      "      {\n",
      "        \"identifier\": \"NCIT:C34373\",\n",
      "        \"label\": \"Amyotrophic Lateral Sclerosis\"\n",
      "      },\n",
      "      {\n",
      "        \"identifier\": \"SNOMEDCT:230258005\"\n",
      "      },\n",
      "      {\n",
      "        \"identifier\": \"SNOMEDCT:86044005\"\n",
      "      },\n",
      "      {\n",
      "        \"identifier\": \"HP:0007354\",\n",
      "        \"label\": \"Amyotrophic lateral sclerosis\"\n",
      "      }\n",
      "    ],\n",
      "    \"type\": [\n",
      "      \"biolink:Disease\",\n",
      "      \"biolink:Disease\",\n",
      "      \"biolink:DiseaseOrPhenotypicFeature\",\n",
      "      \"biolink:BiologicalEntity\",\n",
      "      \"biolink:NamedThing\",\n",
      "      \"biolink:Entity\"\n",
      "    ]\n",
      "  },\n",
      "  \"HGNC:613\": {\n",
      "    \"id\": {\n",
      "      \"identifier\": \"NCBIGene:348\",\n",
      "      \"label\": \"APOE\"\n",
      "    },\n",
      "    \"equivalent_identifiers\": [\n",
      "      {\n",
      "        \"identifier\": \"NCBIGene:348\"\n",
      "      },\n",
      "      {\n",
      "        \"identifier\": \"ENSEMBL:ENSG00000130203\"\n",
      "      },\n",
      "      {\n",
      "        \"identifier\": \"HGNC:613\",\n",
      "        \"label\": \"APOE\"\n",
      "      },\n",
      "      {\n",
      "        \"identifier\": \"UniProtKB:P02649\",\n",
      "        \"label\": \"APOE_HUMAN Apolipoprotein E (sprot)\"\n",
      "      }\n",
      "    ],\n",
      "    \"type\": [\n",
      "      \"biolink:Gene\",\n",
      "      \"biolink:Gene\",\n",
      "      \"biolink:GenomicEntity\",\n",
      "      \"biolink:MolecularEntity\",\n",
      "      \"biolink:BiologicalEntity\",\n",
      "      \"biolink:NamedThing\",\n",
      "      \"biolink:Entity\"\n",
      "    ]\n",
      "  },\n",
      "  \"CURIE:NOTHING\": null\n",
      "}\n"
     ]
    }
   ],
   "source": [
    "result = requests.post('https://nodenormalization-sri.renci.org/get_normalized_nodes',\n",
    "                     json={\"curies\":[\"HP:0007354\", \"HGNC:613\", \"CURIE:NOTHING\"]})\n",
    "print( json.dumps( result.json(), indent = 2))"
   ]
  },
  {
   "cell_type": "markdown",
   "metadata": {},
   "source": [
    "## TRAPI"
   ]
  },
  {
   "cell_type": "markdown",
   "metadata": {},
   "source": [
    "Node normalization will now operate on TRAPI messages (version 1.0)\n",
    "\n",
    "Here we have a message in terms of HGNC and DOID, and the normalizer returns a message using NCBIGene and MONDO."
   ]
  },
  {
   "cell_type": "code",
   "execution_count": 11,
   "metadata": {},
   "outputs": [],
   "source": [
    "trapi_message = {\n",
    "    \"message\": {\n",
    "        \"query_graph\": {\n",
    "            \"nodes\": {\n",
    "                \"n1\": {\n",
    "                    \"id\": \"HGNC:11603\",\n",
    "                    \"category\": [\n",
    "                        \"biolink:Gene\"\n",
    "                    ]\n",
    "                },\n",
    "                \"n2\": {\n",
    "                    \"category\": [\n",
    "                        \"biolink:Disease\"\n",
    "                    ]\n",
    "                }\n",
    "            },\n",
    "            \"edges\": {\n",
    "                \"e1\": {\n",
    "                    \"subject\": \"n1\",\n",
    "                    \"object\": \"n2\"\n",
    "                }\n",
    "            }\n",
    "        },\n",
    "        \"knowledge_graph\": {\n",
    "            \"nodes\": {\n",
    "                \"HGNC:11603\": {\n",
    "                    \"name\": \"TBX4\",\n",
    "                    \"category\": [\n",
    "                        \"biolink:Gene\"\n",
    "                    ]\n",
    "                },\n",
    "                \"DOID:3083\": {\n",
    "                    \"name\": \"chronic obstructive pulmonary disease\",\n",
    "                    \"category\": [\n",
    "                        \"biolink:Disease\"\n",
    "                    ]\n",
    "                }\n",
    "            },\n",
    "            \"edges\": {\n",
    "                \"2d38345a-e9bf-4943-accb-dccba351dd04\": {\n",
    "                    \"subject\": \"NCBIGene:9496\",\n",
    "                    \"object\": \"DOID:3083\",\n",
    "                    \"predicate\": \"biolink:related_to\",\n",
    "                    \"relation\": \"RO:0003304\"\n",
    "                }\n",
    "            }\n",
    "        },\n",
    "        \"results\": [\n",
    "            {\n",
    "                \"node_bindings\": {\n",
    "                    \"n1\": [\n",
    "                        {\n",
    "                            \"id\": \"HGNC:11603\"\n",
    "                        }\n",
    "                    ],\n",
    "                    \"n2\": [\n",
    "                        {\n",
    "                            \"id\": \"DOID:3083\"\n",
    "                        }\n",
    "                    ]\n",
    "                },\n",
    "                \"edge_bindings\": {\n",
    "                    \"e1\": [\n",
    "                        {\n",
    "                            \"id\": \"2d38345a-e9bf-4943-accb-dccba351dd04\"\n",
    "                        }\n",
    "                    ]\n",
    "                }\n",
    "            }\n",
    "        ]\n",
    "    }\n",
    "}"
   ]
  },
  {
   "cell_type": "code",
   "execution_count": 12,
   "metadata": {},
   "outputs": [
    {
     "name": "stdout",
     "output_type": "stream",
     "text": [
      "200\n"
     ]
    }
   ],
   "source": [
    "result = requests.post('https://nodenormalization-sri.renci.org/response',json=trapi_message)\n",
    "print(result.status_code)"
   ]
  },
  {
   "cell_type": "code",
   "execution_count": 13,
   "metadata": {},
   "outputs": [
    {
     "name": "stdout",
     "output_type": "stream",
     "text": [
      "{\n",
      "  \"message\": {\n",
      "    \"query_graph\": {\n",
      "      \"nodes\": {\n",
      "        \"n1\": {\n",
      "          \"id\": \"NCBIGene:9496\",\n",
      "          \"category\": [\n",
      "            \"biolink:Gene\"\n",
      "          ],\n",
      "          \"is_set\": false\n",
      "        },\n",
      "        \"n2\": {\n",
      "          \"id\": null,\n",
      "          \"category\": [\n",
      "            \"biolink:Disease\"\n",
      "          ],\n",
      "          \"is_set\": false\n",
      "        }\n",
      "      },\n",
      "      \"edges\": {\n",
      "        \"e1\": {\n",
      "          \"subject\": \"n1\",\n",
      "          \"object\": \"n2\",\n",
      "          \"predicate\": null,\n",
      "          \"relation\": null\n",
      "        }\n",
      "      }\n",
      "    },\n",
      "    \"knowledge_graph\": {\n",
      "      \"nodes\": {\n",
      "        \"NCBIGene:9496\": {\n",
      "          \"category\": [\n",
      "            \"biolink:Gene\",\n",
      "            \"biolink:Gene\",\n",
      "            \"biolink:GenomicEntity\",\n",
      "            \"biolink:MolecularEntity\",\n",
      "            \"biolink:BiologicalEntity\",\n",
      "            \"biolink:NamedThing\",\n",
      "            \"biolink:Entity\"\n",
      "          ],\n",
      "          \"name\": \"TBX4\",\n",
      "          \"attributes\": [\n",
      "            {\n",
      "              \"type\": \"biolink:same_as\",\n",
      "              \"value\": [\n",
      "                \"NCBIGene:9496\",\n",
      "                \"ENSEMBL:ENSG00000121075\",\n",
      "                \"HGNC:11603\",\n",
      "                \"UniProtKB:P57082\"\n",
      "              ],\n",
      "              \"name\": \"same_as\",\n",
      "              \"url\": null,\n",
      "              \"source\": null\n",
      "            }\n",
      "          ]\n",
      "        },\n",
      "        \"MONDO:0005002\": {\n",
      "          \"category\": [\n",
      "            \"biolink:Disease\",\n",
      "            \"biolink:Disease\",\n",
      "            \"biolink:DiseaseOrPhenotypicFeature\",\n",
      "            \"biolink:BiologicalEntity\",\n",
      "            \"biolink:NamedThing\",\n",
      "            \"biolink:Entity\"\n",
      "          ],\n",
      "          \"name\": \"chronic obstructive pulmonary disease\",\n",
      "          \"attributes\": [\n",
      "            {\n",
      "              \"type\": \"biolink:same_as\",\n",
      "              \"value\": [\n",
      "                \"MONDO:0005002\",\n",
      "                \"DOID:3083\",\n",
      "                \"EFO:0000341\",\n",
      "                \"UMLS:C0024117\",\n",
      "                \"MESH:D029424\",\n",
      "                \"NCIT:C3199\",\n",
      "                \"SNOMEDCT:13645005\",\n",
      "                \"HP:0006510\"\n",
      "              ],\n",
      "              \"name\": \"same_as\",\n",
      "              \"url\": null,\n",
      "              \"source\": null\n",
      "            }\n",
      "          ]\n",
      "        }\n",
      "      },\n",
      "      \"edges\": {\n",
      "        \"2d38345a-e9bf-4943-accb-dccba351dd04\": {\n",
      "          \"subject\": \"NCBIGene:9496\",\n",
      "          \"object\": \"MONDO:0005002\",\n",
      "          \"predicate\": \"biolink:related_to\",\n",
      "          \"relation\": \"RO:0003304\",\n",
      "          \"attributes\": null\n",
      "        }\n",
      "      }\n",
      "    },\n",
      "    \"results\": [\n",
      "      {\n",
      "        \"node_bindings\": {\n",
      "          \"n1\": [\n",
      "            {\n",
      "              \"id\": \"NCBIGene:9496\"\n",
      "            }\n",
      "          ],\n",
      "          \"n2\": [\n",
      "            {\n",
      "              \"id\": \"MONDO:0005002\"\n",
      "            }\n",
      "          ]\n",
      "        },\n",
      "        \"edge_bindings\": {\n",
      "          \"e1\": [\n",
      "            {\n",
      "              \"id\": \"2d38345a-e9bf-4943-accb-dccba351dd04\"\n",
      "            }\n",
      "          ]\n",
      "        }\n",
      "      }\n",
      "    ]\n",
      "  },\n",
      "  \"logs\": null,\n",
      "  \"status\": null\n",
      "}\n"
     ]
    }
   ],
   "source": [
    "print(json.dumps(result.json(), indent=2))"
   ]
  },
  {
   "cell_type": "code",
   "execution_count": null,
   "metadata": {},
   "outputs": [],
   "source": []
  }
 ],
 "metadata": {
  "kernelspec": {
   "display_name": "Python 3 (ipykernel)",
   "language": "python",
   "name": "python3"
  },
  "language_info": {
   "codemirror_mode": {
    "name": "ipython",
    "version": 3
   },
   "file_extension": ".py",
   "mimetype": "text/x-python",
   "name": "python",
   "nbconvert_exporter": "python",
   "pygments_lexer": "ipython3",
   "version": "3.12.4"
  }
 },
 "nbformat": 4,
 "nbformat_minor": 4
}
